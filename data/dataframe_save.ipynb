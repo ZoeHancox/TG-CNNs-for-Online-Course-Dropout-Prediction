{
 "cells": [
  {
   "cell_type": "code",
   "execution_count": 1,
   "id": "70b15552",
   "metadata": {
    "ExecuteTime": {
     "end_time": "2021-07-08T10:11:13.293073Z",
     "start_time": "2021-07-08T10:11:09.268592Z"
    },
    "id": "70b15552"
   },
   "outputs": [],
   "source": [
    "import numpy as np\n",
    "import scipy as sp\n",
    "import pandas as pd\n",
    "import matplotlib.pyplot as plt\n",
    "#import seaborn as sns\n",
    "import math\n",
    "\n",
    "%matplotlib inline\n",
    "\n",
    "from sklearn.model_selection import train_test_split\n",
    "import sklearn.metrics as metrics\n",
    "\n",
    "from scipy import sparse\n",
    "from scipy.linalg import sqrtm \n",
    "\n",
    "\n",
    "import networkx as nx\n"
   ]
  },
  {
   "cell_type": "code",
   "execution_count": 3,
   "id": "HZSRs_BN-E9Q",
   "metadata": {
    "ExecuteTime": {
     "end_time": "2021-07-01T13:33:14.730667Z",
     "start_time": "2021-07-01T13:33:14.722752Z"
    },
    "colab": {
     "base_uri": "https://localhost:8080/"
    },
    "id": "HZSRs_BN-E9Q",
    "outputId": "048b2af8-3562-49b6-b28b-662319ffd78f"
   },
   "outputs": [],
   "source": [
    "# from google.colab import drive\n",
    "# drive.mount('/content/drive/')\n",
    "\n",
    "# %cd /content/drive/My Drive/ACT_MOOC/\n"
   ]
  },
  {
   "cell_type": "code",
   "execution_count": 2,
   "id": "d50d400e",
   "metadata": {
    "ExecuteTime": {
     "end_time": "2021-07-08T10:11:15.745826Z",
     "start_time": "2021-07-08T10:11:15.527476Z"
    },
    "colab": {
     "base_uri": "https://localhost:8080/",
     "height": 200
    },
    "id": "d50d400e",
    "outputId": "d05b73a1-ae17-4d7e-e121-b8bfbc1012b9"
   },
   "outputs": [
    {
     "name": "stdout",
     "output_type": "stream",
     "text": [
      "ACTIONID     int64\n",
      "USERID       int64\n",
      "TARGETID     int16\n",
      "TIMESTAMP    int32\n",
      "dtype: object\n"
     ]
    }
   ],
   "source": [
    "actions = pd.read_csv('mooc_actions.tsv', sep='\\t')\n",
    "actions.head()\n",
    "# G(0, 1, 0) = exp(-gamma*6.0)\n",
    "# G(node_start, node_end, time_jump_num) = scaled_time\n",
    "\n",
    "actions['TARGETID'] = actions['TARGETID'].astype('int16')\n",
    "actions['TIMESTAMP'] = actions['TIMESTAMP'].astype('int32')\n",
    "\n",
    "actions.head()\n",
    "print (actions.dtypes)"
   ]
  },
  {
   "cell_type": "markdown",
   "id": "f42ef3fa",
   "metadata": {
    "id": "f42ef3fa"
   },
   "source": [
    "### Whole dataset"
   ]
  },
  {
   "cell_type": "code",
   "execution_count": 3,
   "id": "e598f770",
   "metadata": {
    "ExecuteTime": {
     "end_time": "2021-07-08T10:11:18.393742Z",
     "start_time": "2021-07-08T10:11:18.375758Z"
    }
   },
   "outputs": [],
   "source": [
    "only_100_actions = False"
   ]
  },
  {
   "cell_type": "code",
   "execution_count": 4,
   "id": "50faab76",
   "metadata": {
    "ExecuteTime": {
     "end_time": "2021-07-08T10:11:21.071936Z",
     "start_time": "2021-07-08T10:11:20.407988Z"
    },
    "colab": {
     "base_uri": "https://localhost:8080/",
     "height": 200
    },
    "id": "50faab76",
    "outputId": "72fb96d3-69dd-4238-81da-9a9c3e051ee9"
   },
   "outputs": [
    {
     "data": {
      "text/html": [
       "<div>\n",
       "<style scoped>\n",
       "    .dataframe tbody tr th:only-of-type {\n",
       "        vertical-align: middle;\n",
       "    }\n",
       "\n",
       "    .dataframe tbody tr th {\n",
       "        vertical-align: top;\n",
       "    }\n",
       "\n",
       "    .dataframe thead th {\n",
       "        text-align: right;\n",
       "    }\n",
       "</style>\n",
       "<table border=\"1\" class=\"dataframe\">\n",
       "  <thead>\n",
       "    <tr style=\"text-align: right;\">\n",
       "      <th></th>\n",
       "      <th>USERID</th>\n",
       "      <th>TARGETID</th>\n",
       "      <th>TIMESTAMP</th>\n",
       "    </tr>\n",
       "  </thead>\n",
       "  <tbody>\n",
       "    <tr>\n",
       "      <th>0</th>\n",
       "      <td>0</td>\n",
       "      <td>[0, 1, 2, 1, 2, 3, 4, 5, 6, 7, 8, 9, 0, 9, 2, ...</td>\n",
       "      <td>[0, 6, 41, 49, 51, 55, 59, 62, 65, 113, 226, 9...</td>\n",
       "    </tr>\n",
       "    <tr>\n",
       "      <th>1</th>\n",
       "      <td>1</td>\n",
       "      <td>[10, 1, 2, 7, 0, 11, 12, 11, 12, 12, 12, 12, 5...</td>\n",
       "      <td>[7262, 7266, 7273, 7289, 7299, 7319, 7839, 784...</td>\n",
       "    </tr>\n",
       "    <tr>\n",
       "      <th>2</th>\n",
       "      <td>2</td>\n",
       "      <td>[1, 10, 3, 13, 8, 7, 3, 13, 4, 15, 5, 16, 5, 6...</td>\n",
       "      <td>[37868, 78761, 78894, 82108, 105180, 105187, 1...</td>\n",
       "    </tr>\n",
       "    <tr>\n",
       "      <th>3</th>\n",
       "      <td>3</td>\n",
       "      <td>[1, 10, 3, 13, 8, 3]</td>\n",
       "      <td>[37953, 38113, 38126, 38246, 776948, 776953]</td>\n",
       "    </tr>\n",
       "    <tr>\n",
       "      <th>4</th>\n",
       "      <td>4</td>\n",
       "      <td>[1, 3, 4, 13, 8, 5, 5, 16, 16]</td>\n",
       "      <td>[37969, 38018, 38724, 38725, 38736, 38753, 396...</td>\n",
       "    </tr>\n",
       "  </tbody>\n",
       "</table>\n",
       "</div>"
      ],
      "text/plain": [
       "   USERID                                           TARGETID  \\\n",
       "0       0  [0, 1, 2, 1, 2, 3, 4, 5, 6, 7, 8, 9, 0, 9, 2, ...   \n",
       "1       1  [10, 1, 2, 7, 0, 11, 12, 11, 12, 12, 12, 12, 5...   \n",
       "2       2  [1, 10, 3, 13, 8, 7, 3, 13, 4, 15, 5, 16, 5, 6...   \n",
       "3       3                               [1, 10, 3, 13, 8, 3]   \n",
       "4       4                     [1, 3, 4, 13, 8, 5, 5, 16, 16]   \n",
       "\n",
       "                                           TIMESTAMP  \n",
       "0  [0, 6, 41, 49, 51, 55, 59, 62, 65, 113, 226, 9...  \n",
       "1  [7262, 7266, 7273, 7289, 7299, 7319, 7839, 784...  \n",
       "2  [37868, 78761, 78894, 82108, 105180, 105187, 1...  \n",
       "3       [37953, 38113, 38126, 38246, 776948, 776953]  \n",
       "4  [37969, 38018, 38724, 38725, 38736, 38753, 396...  "
      ]
     },
     "execution_count": 4,
     "metadata": {},
     "output_type": "execute_result"
    }
   ],
   "source": [
    "targetid_time_df = actions.groupby('USERID')['TARGETID'].apply(list).reset_index(name=\"TARGETID\")\n",
    "\n",
    "times = actions.groupby('USERID')['TIMESTAMP'].apply(list)\n",
    "        \n",
    "targetid_time_df[\"TIMESTAMP\"] = times\n",
    "\n",
    "# removing any actions if there are more than 100 actions taken by a user \n",
    "# leaving only the last 100 actions\n",
    "\n",
    "if only_100_actions:\n",
    "    for index, row in targetid_time_df.iterrows():\n",
    "        if len(row['TARGETID']) > 100: # if >100 user actions\n",
    "    #         print(row['TARGETID'])\n",
    "    #         print(\"> 100 actions undertaken\")\n",
    "            new_TARGETID = row['TARGETID'][-100:] # limits to last 100 actions\n",
    "            #row['TIMESTAMP'][-100:]\n",
    "\n",
    "            new_TIMESTAMP = row['TIMESTAMP'][-100:]\n",
    "\n",
    "\n",
    "            # needs to replace cell in panda\n",
    "            targetid_time_df.TARGETID.iloc[index] = new_TARGETID\n",
    "            targetid_time_df.TIMESTAMP.iloc[index] = new_TIMESTAMP\n",
    "\n",
    "\n",
    "    times = targetid_time_df['TIMESTAMP']\n",
    "\n",
    "\n",
    "# print(\"\\n\")\n",
    "# print(targetid_time_df['TARGETID'][2]) # cell with >100 actions\n",
    "# print(len(targetid_time_df['TARGETID'][2]))\n",
    "targetid_time_df.head()"
   ]
  },
  {
   "cell_type": "markdown",
   "id": "574848dd",
   "metadata": {
    "id": "574848dd"
   },
   "source": [
    "##### Sorting out the timestamps:\n",
    "* scaling the timestamps so they all begin at 0 seconds\n",
    "* finding the most actions taken"
   ]
  },
  {
   "cell_type": "code",
   "execution_count": 5,
   "id": "1b058aa5",
   "metadata": {
    "ExecuteTime": {
     "end_time": "2021-07-08T10:11:24.595495Z",
     "start_time": "2021-07-08T10:11:24.398150Z"
    },
    "colab": {
     "base_uri": "https://localhost:8080/",
     "height": 200
    },
    "id": "1b058aa5",
    "outputId": "b21b67d5-21bc-495b-e3b8-682797e59288"
   },
   "outputs": [
    {
     "data": {
      "text/html": [
       "<div>\n",
       "<style scoped>\n",
       "    .dataframe tbody tr th:only-of-type {\n",
       "        vertical-align: middle;\n",
       "    }\n",
       "\n",
       "    .dataframe tbody tr th {\n",
       "        vertical-align: top;\n",
       "    }\n",
       "\n",
       "    .dataframe thead th {\n",
       "        text-align: right;\n",
       "    }\n",
       "</style>\n",
       "<table border=\"1\" class=\"dataframe\">\n",
       "  <thead>\n",
       "    <tr style=\"text-align: right;\">\n",
       "      <th></th>\n",
       "      <th>USERID</th>\n",
       "      <th>TARGETID</th>\n",
       "      <th>TIMESTAMP</th>\n",
       "      <th>SCALED_TIMESTAMP</th>\n",
       "    </tr>\n",
       "  </thead>\n",
       "  <tbody>\n",
       "    <tr>\n",
       "      <th>0</th>\n",
       "      <td>0</td>\n",
       "      <td>[0, 1, 2, 1, 2, 3, 4, 5, 6, 7, 8, 9, 0, 9, 2, ...</td>\n",
       "      <td>[0, 6, 41, 49, 51, 55, 59, 62, 65, 113, 226, 9...</td>\n",
       "      <td>[0, 6, 41, 49, 51, 55, 59, 62, 65, 113, 226, 9...</td>\n",
       "    </tr>\n",
       "    <tr>\n",
       "      <th>1</th>\n",
       "      <td>1</td>\n",
       "      <td>[10, 1, 2, 7, 0, 11, 12, 11, 12, 12, 12, 12, 5...</td>\n",
       "      <td>[7262, 7266, 7273, 7289, 7299, 7319, 7839, 784...</td>\n",
       "      <td>[0, 4, 11, 27, 37, 57, 577, 584, 64802, 65203,...</td>\n",
       "    </tr>\n",
       "    <tr>\n",
       "      <th>2</th>\n",
       "      <td>2</td>\n",
       "      <td>[1, 10, 3, 13, 8, 7, 3, 13, 4, 15, 5, 16, 5, 6...</td>\n",
       "      <td>[37868, 78761, 78894, 82108, 105180, 105187, 1...</td>\n",
       "      <td>[0, 40893, 41026, 44240, 67312, 67319, 67348, ...</td>\n",
       "    </tr>\n",
       "    <tr>\n",
       "      <th>3</th>\n",
       "      <td>3</td>\n",
       "      <td>[1, 10, 3, 13, 8, 3]</td>\n",
       "      <td>[37953, 38113, 38126, 38246, 776948, 776953]</td>\n",
       "      <td>[0, 160, 173, 293, 738995, 739000]</td>\n",
       "    </tr>\n",
       "    <tr>\n",
       "      <th>4</th>\n",
       "      <td>4</td>\n",
       "      <td>[1, 3, 4, 13, 8, 5, 5, 16, 16]</td>\n",
       "      <td>[37969, 38018, 38724, 38725, 38736, 38753, 396...</td>\n",
       "      <td>[0, 49, 755, 756, 767, 784, 1661, 1661, 1913]</td>\n",
       "    </tr>\n",
       "  </tbody>\n",
       "</table>\n",
       "</div>"
      ],
      "text/plain": [
       "   USERID                                           TARGETID  \\\n",
       "0       0  [0, 1, 2, 1, 2, 3, 4, 5, 6, 7, 8, 9, 0, 9, 2, ...   \n",
       "1       1  [10, 1, 2, 7, 0, 11, 12, 11, 12, 12, 12, 12, 5...   \n",
       "2       2  [1, 10, 3, 13, 8, 7, 3, 13, 4, 15, 5, 16, 5, 6...   \n",
       "3       3                               [1, 10, 3, 13, 8, 3]   \n",
       "4       4                     [1, 3, 4, 13, 8, 5, 5, 16, 16]   \n",
       "\n",
       "                                           TIMESTAMP  \\\n",
       "0  [0, 6, 41, 49, 51, 55, 59, 62, 65, 113, 226, 9...   \n",
       "1  [7262, 7266, 7273, 7289, 7299, 7319, 7839, 784...   \n",
       "2  [37868, 78761, 78894, 82108, 105180, 105187, 1...   \n",
       "3       [37953, 38113, 38126, 38246, 776948, 776953]   \n",
       "4  [37969, 38018, 38724, 38725, 38736, 38753, 396...   \n",
       "\n",
       "                                    SCALED_TIMESTAMP  \n",
       "0  [0, 6, 41, 49, 51, 55, 59, 62, 65, 113, 226, 9...  \n",
       "1  [0, 4, 11, 27, 37, 57, 577, 584, 64802, 65203,...  \n",
       "2  [0, 40893, 41026, 44240, 67312, 67319, 67348, ...  \n",
       "3                 [0, 160, 173, 293, 738995, 739000]  \n",
       "4      [0, 49, 755, 756, 767, 784, 1661, 1661, 1913]  "
      ]
     },
     "execution_count": 5,
     "metadata": {},
     "output_type": "execute_result"
    }
   ],
   "source": [
    "# scaling the timestamps:\n",
    "base_nums = []\n",
    "for time_list in times:\n",
    "    base_num = time_list[0]\n",
    "    base_nums.append(base_num)\n",
    "    \n",
    "\n",
    "new_timestamps = []\n",
    "for i, time_list in enumerate(times):\n",
    "    #print(time_list)\n",
    "    new_times = []\n",
    "    new_timestamps.append(new_times)\n",
    "    \n",
    "    for time in time_list:\n",
    "        #print(time)\n",
    "        time_new = time - base_nums[i]\n",
    "        #print(f\"Time: {time}, Base number: {base_nums[i]}\")\n",
    "        new_times.append(time_new)\n",
    "    \n",
    "targetid_time_df[\"SCALED_TIMESTAMP\"] = new_timestamps\n",
    "\n",
    "targetid_time_df.head()"
   ]
  },
  {
   "cell_type": "code",
   "execution_count": 6,
   "id": "43a8bb60",
   "metadata": {
    "ExecuteTime": {
     "end_time": "2021-07-08T10:11:27.804662Z",
     "start_time": "2021-07-08T10:11:27.767764Z"
    }
   },
   "outputs": [
    {
     "data": {
      "text/html": [
       "<div>\n",
       "<style scoped>\n",
       "    .dataframe tbody tr th:only-of-type {\n",
       "        vertical-align: middle;\n",
       "    }\n",
       "\n",
       "    .dataframe tbody tr th {\n",
       "        vertical-align: top;\n",
       "    }\n",
       "\n",
       "    .dataframe thead th {\n",
       "        text-align: right;\n",
       "    }\n",
       "</style>\n",
       "<table border=\"1\" class=\"dataframe\">\n",
       "  <thead>\n",
       "    <tr style=\"text-align: right;\">\n",
       "      <th></th>\n",
       "      <th>USERID</th>\n",
       "      <th>TARGETID</th>\n",
       "      <th>SCALED_TIMESTAMP</th>\n",
       "    </tr>\n",
       "  </thead>\n",
       "  <tbody>\n",
       "    <tr>\n",
       "      <th>0</th>\n",
       "      <td>0</td>\n",
       "      <td>[0, 1, 2, 1, 2, 3, 4, 5, 6, 7, 8, 9, 0, 9, 2, ...</td>\n",
       "      <td>[0, 6, 41, 49, 51, 55, 59, 62, 65, 113, 226, 9...</td>\n",
       "    </tr>\n",
       "    <tr>\n",
       "      <th>1</th>\n",
       "      <td>1</td>\n",
       "      <td>[10, 1, 2, 7, 0, 11, 12, 11, 12, 12, 12, 12, 5...</td>\n",
       "      <td>[0, 4, 11, 27, 37, 57, 577, 584, 64802, 65203,...</td>\n",
       "    </tr>\n",
       "    <tr>\n",
       "      <th>2</th>\n",
       "      <td>2</td>\n",
       "      <td>[1, 10, 3, 13, 8, 7, 3, 13, 4, 15, 5, 16, 5, 6...</td>\n",
       "      <td>[0, 40893, 41026, 44240, 67312, 67319, 67348, ...</td>\n",
       "    </tr>\n",
       "    <tr>\n",
       "      <th>3</th>\n",
       "      <td>3</td>\n",
       "      <td>[1, 10, 3, 13, 8, 3]</td>\n",
       "      <td>[0, 160, 173, 293, 738995, 739000]</td>\n",
       "    </tr>\n",
       "    <tr>\n",
       "      <th>4</th>\n",
       "      <td>4</td>\n",
       "      <td>[1, 3, 4, 13, 8, 5, 5, 16, 16]</td>\n",
       "      <td>[0, 49, 755, 756, 767, 784, 1661, 1661, 1913]</td>\n",
       "    </tr>\n",
       "  </tbody>\n",
       "</table>\n",
       "</div>"
      ],
      "text/plain": [
       "   USERID                                           TARGETID  \\\n",
       "0       0  [0, 1, 2, 1, 2, 3, 4, 5, 6, 7, 8, 9, 0, 9, 2, ...   \n",
       "1       1  [10, 1, 2, 7, 0, 11, 12, 11, 12, 12, 12, 12, 5...   \n",
       "2       2  [1, 10, 3, 13, 8, 7, 3, 13, 4, 15, 5, 16, 5, 6...   \n",
       "3       3                               [1, 10, 3, 13, 8, 3]   \n",
       "4       4                     [1, 3, 4, 13, 8, 5, 5, 16, 16]   \n",
       "\n",
       "                                    SCALED_TIMESTAMP  \n",
       "0  [0, 6, 41, 49, 51, 55, 59, 62, 65, 113, 226, 9...  \n",
       "1  [0, 4, 11, 27, 37, 57, 577, 584, 64802, 65203,...  \n",
       "2  [0, 40893, 41026, 44240, 67312, 67319, 67348, ...  \n",
       "3                 [0, 160, 173, 293, 738995, 739000]  \n",
       "4      [0, 49, 755, 756, 767, 784, 1661, 1661, 1913]  "
      ]
     },
     "execution_count": 6,
     "metadata": {},
     "output_type": "execute_result"
    }
   ],
   "source": [
    "targetid_time_df =targetid_time_df.drop(['TIMESTAMP'], axis=1)\n",
    "\n",
    "targetid_time_df.head()"
   ]
  },
  {
   "cell_type": "code",
   "execution_count": 7,
   "id": "c20882a6",
   "metadata": {
    "ExecuteTime": {
     "end_time": "2021-07-08T10:11:34.161591Z",
     "start_time": "2021-07-08T10:11:33.943743Z"
    }
   },
   "outputs": [
    {
     "name": "stdout",
     "output_type": "stream",
     "text": [
      "      USERID                                           TARGETID  \\\n",
      "0          0  [0, 1, 2, 1, 2, 3, 4, 5, 6, 7, 8, 9, 0, 9, 2, ...   \n",
      "1          1  [10, 1, 2, 7, 0, 11, 12, 11, 12, 12, 12, 12, 5...   \n",
      "2          2  [1, 10, 3, 13, 8, 7, 3, 13, 4, 15, 5, 16, 5, 6...   \n",
      "3          3                               [1, 10, 3, 13, 8, 3]   \n",
      "4          4                     [1, 3, 4, 13, 8, 5, 5, 16, 16]   \n",
      "...      ...                                                ...   \n",
      "7042    7042                                   [1, 3, 1, 4, 15]   \n",
      "7043    7043  [1, 2, 1, 1, 10, 1, 10, 1, 2, 7, 3, 13, 4, 5, ...   \n",
      "7044    7044                              [1, 2, 2, 1, 4, 4, 4]   \n",
      "7045    7045               [1, 10, 10, 1, 2, 1, 3, 3, 4, 5, 16]   \n",
      "7046    7046  [1, 2, 1, 1, 3, 8, 3, 4, 3, 5, 3, 25, 4, 3, 4, 5]   \n",
      "\n",
      "                                       SCALED_TIMESTAMP  \n",
      "0     [0, 6, 41, 49, 51, 55, 59, 62, 65, 113, 226, 9...  \n",
      "1     [0, 4, 11, 27, 37, 57, 577, 584, 64802, 65203,...  \n",
      "2     [0, 40893, 41026, 44240, 67312, 67319, 67348, ...  \n",
      "3                    [0, 160, 173, 293, 738995, 739000]  \n",
      "4         [0, 49, 755, 756, 767, 784, 1661, 1661, 1913]  \n",
      "...                                                 ...  \n",
      "7042                            [0, 18, 758, 766, 1282]  \n",
      "7043  [0, 92, 97, 101, 994, 1000, 1708, 1711, 2073, ...  \n",
      "7044                     [0, 40, 66, 87, 104, 246, 263]  \n",
      "7045  [0, 248, 462, 472, 484, 494, 535, 872, 989, 14...  \n",
      "7046  [0, 26, 45, 53, 59, 1129, 1141, 4127, 4136, 41...  \n",
      "\n",
      "[7047 rows x 3 columns]\n"
     ]
    }
   ],
   "source": [
    "if only_100_actions:\n",
    "    file_name = \"targetid_and_scaled_time_last100.pkl\"\n",
    "else:\n",
    "    file_name = \"targetid_and_scaled_time_all.pkl\"\n",
    "\n",
    "\n",
    "targetid_time_df.to_pickle(file_name, protocol=4) # protocol 4 allows this to work on google colab\n",
    "\n",
    "targetid_time_df = pd.read_pickle(file_name)\n",
    "print(targetid_time_df)"
   ]
  }
 ],
 "metadata": {
  "accelerator": "GPU",
  "colab": {
   "collapsed_sections": [
    "af6ac62a",
    "11df073c"
   ],
   "name": "gc_dense_CNNs.ipynb",
   "provenance": []
  },
  "kernelspec": {
   "display_name": "Python 3",
   "language": "python",
   "name": "python3"
  },
  "language_info": {
   "codemirror_mode": {
    "name": "ipython",
    "version": 3
   },
   "file_extension": ".py",
   "mimetype": "text/x-python",
   "name": "python",
   "nbconvert_exporter": "python",
   "pygments_lexer": "ipython3",
   "version": "3.8.3"
  }
 },
 "nbformat": 4,
 "nbformat_minor": 5
}
