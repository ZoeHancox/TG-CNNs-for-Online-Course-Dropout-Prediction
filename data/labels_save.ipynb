{
 "cells": [
  {
   "cell_type": "code",
   "execution_count": 1,
   "id": "e9465cce",
   "metadata": {
    "ExecuteTime": {
     "end_time": "2021-07-06T18:52:18.341962Z",
     "start_time": "2021-07-06T18:52:15.799926Z"
    }
   },
   "outputs": [],
   "source": [
    "import numpy as np\n",
    "import pandas as pd\n",
    "\n",
    "import torch"
   ]
  },
  {
   "cell_type": "markdown",
   "id": "5a4ced88",
   "metadata": {},
   "source": [
    "## Code to make the outputs (y)"
   ]
  },
  {
   "cell_type": "code",
   "execution_count": 33,
   "id": "eb69ecb9",
   "metadata": {
    "ExecuteTime": {
     "end_time": "2021-06-29T18:04:14.818471Z",
     "start_time": "2021-06-29T18:04:14.004090Z"
    }
   },
   "outputs": [],
   "source": [
    "labels = pd.read_csv('mooc_action_labels.tsv', sep='\\t')\n",
    "\n",
    "actions['LABEL'] = labels.LABEL # adds the label (whether someone drops out after action) to the df\n",
    "\n",
    "dropped = actions.groupby('USERID')['LABEL'].apply(list)\n",
    "targetid_time_df[\"LABEL\"] = dropped"
   ]
  },
  {
   "cell_type": "code",
   "execution_count": 34,
   "id": "400811f0",
   "metadata": {
    "ExecuteTime": {
     "end_time": "2021-06-29T18:04:14.890295Z",
     "start_time": "2021-06-29T18:04:14.818471Z"
    }
   },
   "outputs": [
    {
     "name": "stdout",
     "output_type": "stream",
     "text": [
      "[0, 0, 0, 1, 1, 0, 0, 0, 1, 1, 1, 0, 1, 1, 0, 0, 0, 0, 0, 0, 1, 0, 0, 0, 1, 0, 0, 0, 1]\n",
      "<class 'list'>\n"
     ]
    }
   ],
   "source": [
    "# sum of the labels for each of the users - to determine if a user dropped out\n",
    "y = actions.groupby('USERID').LABEL.sum().values #numpy array format\n",
    "\n",
    "y = y.tolist()\n",
    "print(y[:29]) # to check\n",
    "print(type(y))"
   ]
  },
  {
   "cell_type": "markdown",
   "id": "b3848367",
   "metadata": {},
   "source": [
    "## Saving the labels"
   ]
  },
  {
   "cell_type": "code",
   "execution_count": 39,
   "id": "5e8f57f4",
   "metadata": {
    "ExecuteTime": {
     "end_time": "2021-06-29T18:04:17.522638Z",
     "start_time": "2021-06-29T18:04:17.490642Z"
    }
   },
   "outputs": [],
   "source": [
    "save_labels = False"
   ]
  },
  {
   "cell_type": "code",
   "execution_count": 40,
   "id": "18f076a9",
   "metadata": {
    "ExecuteTime": {
     "end_time": "2021-06-29T18:04:17.586570Z",
     "start_time": "2021-06-29T18:04:17.530612Z"
    }
   },
   "outputs": [
    {
     "name": "stdout",
     "output_type": "stream",
     "text": [
      "[0 0 0 ... 1 1 1]\n",
      "[0, 0, 0, 1, 1]\n",
      "7047\n"
     ]
    }
   ],
   "source": [
    "if save_labels:    \n",
    "    outfile_labels = 'labels.npy'\n",
    "\n",
    "    np.save(outfile_labels, y)\n",
    "\n",
    "    loaded_y = np.load(outfile_labels)\n",
    "    print(loaded_y)\n",
    "\n",
    "    # needs converting to a list when loaded\n",
    "    loaded_y = loaded_y.tolist()\n",
    "    print(loaded_y[:5])\n",
    "    \n",
    "    print(len(loaded_y))"
   ]
  }
 ],
 "metadata": {
  "kernelspec": {
   "display_name": "Python 3",
   "language": "python",
   "name": "python3"
  },
  "language_info": {
   "codemirror_mode": {
    "name": "ipython",
    "version": 3
   },
   "file_extension": ".py",
   "mimetype": "text/x-python",
   "name": "python",
   "nbconvert_exporter": "python",
   "pygments_lexer": "ipython3",
   "version": "3.8.3"
  }
 },
 "nbformat": 4,
 "nbformat_minor": 5
}
